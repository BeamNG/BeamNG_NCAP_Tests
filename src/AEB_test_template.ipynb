{
 "cells": [
  {
   "cell_type": "markdown",
   "metadata": {},
   "source": [
    "# AEB Test Template\n",
    "This python notebook provides an example to evaluate the AEB systems performance according to the following [reference](#https://cdn.euroncap.com/media/67254/euro-ncap-assessment-protocol-sa-v91.pdf).\n",
    "\n",
    "The `TrialControl` class has been used to perform every Car-to-Car rear scenario."
   ]
  },
  {
   "cell_type": "code",
   "execution_count": 1,
   "metadata": {},
   "outputs": [],
   "source": [
    "from beamngpy import BeamNGpy\n",
    "from beamng_ncap.scenarios import CCRS, CCRM, CCRB, generate_scenario"
   ]
  },
  {
   "cell_type": "code",
   "execution_count": 2,
   "metadata": {},
   "outputs": [],
   "source": [
    "beamng = BeamNGpy('localhost', 64256)\n",
    "beamng.open()\n",
    "scenario = generate_scenario('etk800', 'etk800')\n",
    "scenario.make(beamng)\n",
    "\n",
    "beamng.set_deterministic()\n",
    "beamng.set_steps_per_second(100)\n",
    "beamng.load_scenario(scenario)\n",
    "beamng.pause()\n",
    "beamng.start_scenario()"
   ]
  },
  {
   "cell_type": "markdown",
   "metadata": {},
   "source": [
    "### Run the CCRs tests"
   ]
  },
  {
   "cell_type": "code",
   "execution_count": 3,
   "metadata": {},
   "outputs": [
    {
     "name": "stdout",
     "output_type": "stream",
     "text": [
      "Running CCRs test with VUT speed: 10 km/h\n",
      "Running CCRs test with VUT speed: 15 km/h\n",
      "Running CCRs test with VUT speed: 20 km/h\n",
      "Running CCRs test with VUT speed: 25 km/h\n",
      "Running CCRs test with VUT speed: 30 km/h\n",
      "Running CCRs test with VUT speed: 35 km/h\n",
      "Running CCRs test with VUT speed: 40 km/h\n",
      "Running CCRs test with VUT speed: 45 km/h\n",
      "Running CCRs test with VUT speed: 50 km/h\n"
     ]
    }
   ],
   "source": [
    "ccrs_scores = []\n",
    "ccrs_states = []\n",
    "overlap = 100\n",
    "for vut_speed in range(10, 55, 5):\n",
    "    print(f'Running CCRs test with VUT speed: {vut_speed} km/h')\n",
    "    test = CCRS(beamng, vut_speed, overlap=overlap)\n",
    "    sensors = test.load()\n",
    "    test_state, test_score = test.execute('trial')\n",
    "    ccrs_scores.append(test_score)\n",
    "    ccrs_states.append(test_state)\n",
    "    test.reset()"
   ]
  },
  {
   "cell_type": "markdown",
   "metadata": {},
   "source": [
    "### Run the CCRm tests"
   ]
  },
  {
   "cell_type": "code",
   "execution_count": 4,
   "metadata": {},
   "outputs": [
    {
     "name": "stdout",
     "output_type": "stream",
     "text": [
      "Running CCRm test with VUT speed: 30 km/h\n",
      "Running CCRm test with VUT speed: 35 km/h\n",
      "Running CCRm test with VUT speed: 40 km/h\n",
      "Running CCRm test with VUT speed: 45 km/h\n",
      "Running CCRm test with VUT speed: 50 km/h\n",
      "Running CCRm test with VUT speed: 55 km/h\n",
      "Running CCRm test with VUT speed: 60 km/h\n",
      "Running CCRm test with VUT speed: 65 km/h\n",
      "Running CCRm test with VUT speed: 70 km/h\n",
      "Running CCRm test with VUT speed: 75 km/h\n",
      "Running CCRm test with VUT speed: 80 km/h\n"
     ]
    }
   ],
   "source": [
    "ccrm_scores = []\n",
    "ccrm_states = []\n",
    "overlap = 100\n",
    "for vut_speed in range(30, 85, 5):\n",
    "    print(f'Running CCRm test with VUT speed: {vut_speed} km/h')\n",
    "    test = CCRM(beamng, vut_speed, overlap)\n",
    "    sensors = test.load()\n",
    "    test_state, test_score = test.execute('trial')\n",
    "    ccrm_scores.append(test_score)\n",
    "    ccrm_states.append(test_state)\n",
    "    test.reset()"
   ]
  },
  {
   "cell_type": "markdown",
   "metadata": {},
   "source": [
    "### Run the CCRb tests"
   ]
  },
  {
   "cell_type": "code",
   "execution_count": 5,
   "metadata": {},
   "outputs": [
    {
     "name": "stdout",
     "output_type": "stream",
     "text": [
      "Running CCRb test with distance: 12 m and decelerations: -2 m/s^2\n",
      "Running CCRb test with distance: 40 m and decelerations: -2 m/s^2\n",
      "Running CCRb test with distance: 12 m and decelerations: -6 m/s^2\n",
      "Running CCRb test with distance: 40 m and decelerations: -6 m/s^2\n"
     ]
    }
   ],
   "source": [
    "ccrb_scores = []\n",
    "ccrb_states = []\n",
    "overlap = 100\n",
    "decelerations = [-2, -6]\n",
    "distances = [12, 40]\n",
    "\n",
    "for deceleration in decelerations:\n",
    "    for distance in distances:\n",
    "        print(f'Running CCRb test with distance: {distance} m and decelerations: {deceleration} m/s^2')\n",
    "        test = CCRB(beamng, deceleration, distance, overlap)\n",
    "        sensors = test.load()\n",
    "        test_state, test_score = test.execute('trial')\n",
    "        ccrb_scores.append(test_score)\n",
    "        ccrb_states.append(test_state)\n",
    "        test.reset()\n",
    "        \n",
    "beamng.close()"
   ]
  },
  {
   "cell_type": "markdown",
   "metadata": {},
   "source": [
    "### Display the raw results"
   ]
  },
  {
   "cell_type": "code",
   "execution_count": 6,
   "metadata": {},
   "outputs": [
    {
     "name": "stdout",
     "output_type": "stream",
     "text": [
      "CCRs scores: [1, 1, 1, 1, 1, 1, 1, 1, 1]\n",
      "CCRm scores: [1, 1, 1, 1, 1, 1, 1, 1, 1, 1, 1]\n",
      "CCRb scores: [1, 1, 1, 1]\n"
     ]
    }
   ],
   "source": [
    "print(f'CCRs scores: {ccrs_scores}')\n",
    "print(f'CCRm scores: {ccrm_scores}')\n",
    "print(f'CCRb scores: {ccrb_scores}')"
   ]
  },
  {
   "cell_type": "code",
   "execution_count": 8,
   "metadata": {},
   "outputs": [
    {
     "name": "stdout",
     "output_type": "stream",
     "text": [
      "AEB score: 2.0 over 2\n"
     ]
    }
   ],
   "source": [
    "import numpy as np\n",
    "\n",
    "ccrs_weights = np.array([1, 2, 2, 2, 2, 2, 1, 1, 1])\n",
    "ccrm_weights = np.array([1, 1, 1, 1, 1, 1, 1, 2, 2, 2, 2])\n",
    "\n",
    "ccrs_weighted_scores = ccrs_weights*np.array(ccrs_scores)\n",
    "ccrm_weighted_scores = ccrm_weights*np.array(ccrm_scores)\n",
    "ccrb_weighted_scores = np.array(ccrb_scores)\n",
    "\n",
    "ccrs_total_score = np.sum(ccrs_weighted_scores)\n",
    "ccrm_total_score = np.sum(ccrm_weighted_scores)\n",
    "ccrb_total_score = np.sum(ccrb_weighted_scores)\n",
    "\n",
    "ccrs_percentage = ccrs_total_score/14\n",
    "ccrm_percentage = ccrm_total_score/15\n",
    "ccrb_percentage = ccrb_total_score/4\n",
    "\n",
    "AEB_score = (ccrs_percentage + ccrm_percentage + ccrb_percentage)/3*2\n",
    "\n",
    "print(f'AEB score: {AEB_score} over 2')"
   ]
  }
 ],
 "metadata": {
  "kernelspec": {
   "display_name": "Python 3.10.6 ('beamng10')",
   "language": "python",
   "name": "python3"
  },
  "language_info": {
   "codemirror_mode": {
    "name": "ipython",
    "version": 3
   },
   "file_extension": ".py",
   "mimetype": "text/x-python",
   "name": "python",
   "nbconvert_exporter": "python",
   "pygments_lexer": "ipython3",
   "version": "3.10.8"
  },
  "orig_nbformat": 4,
  "vscode": {
   "interpreter": {
    "hash": "cde73a09fdf5c0a71e2ddd3e1c910ae7e36c007311f5ac7a8a6982b51c464dcb"
   }
  }
 },
 "nbformat": 4,
 "nbformat_minor": 2
}
